{
 "cells": [
  {
   "cell_type": "code",
   "execution_count": 1,
   "id": "ff3aed25",
   "metadata": {},
   "outputs": [],
   "source": [
    "import pandas as pd"
   ]
  },
  {
   "cell_type": "code",
   "execution_count": 129,
   "id": "c774d19b",
   "metadata": {},
   "outputs": [
    {
     "data": {
      "text/html": [
       "<div>\n",
       "<style scoped>\n",
       "    .dataframe tbody tr th:only-of-type {\n",
       "        vertical-align: middle;\n",
       "    }\n",
       "\n",
       "    .dataframe tbody tr th {\n",
       "        vertical-align: top;\n",
       "    }\n",
       "\n",
       "    .dataframe thead th {\n",
       "        text-align: right;\n",
       "    }\n",
       "</style>\n",
       "<table border=\"1\" class=\"dataframe\">\n",
       "  <thead>\n",
       "    <tr style=\"text-align: right;\">\n",
       "      <th></th>\n",
       "      <th>Phone</th>\n",
       "      <th>Email</th>\n",
       "    </tr>\n",
       "    <tr>\n",
       "      <th>Name</th>\n",
       "      <th></th>\n",
       "      <th></th>\n",
       "    </tr>\n",
       "  </thead>\n",
       "  <tbody>\n",
       "    <tr>\n",
       "      <th>saurav</th>\n",
       "      <td>9340866304</td>\n",
       "      <td>saurabhkushwah112000@gmail.com</td>\n",
       "    </tr>\n",
       "    <tr>\n",
       "      <th>harshil</th>\n",
       "      <td>789654123</td>\n",
       "      <td>tom@gmail.com</td>\n",
       "    </tr>\n",
       "  </tbody>\n",
       "</table>\n",
       "</div>"
      ],
      "text/plain": [
       "              Phone                           Email\n",
       "Name                                               \n",
       "saurav   9340866304  saurabhkushwah112000@gmail.com\n",
       "harshil   789654123                   tom@gmail.com"
      ]
     },
     "execution_count": 129,
     "metadata": {},
     "output_type": "execute_result"
    }
   ],
   "source": [
    "# d = {'Name' : 'Saurabh Kushwah', 'Phone' : 9340866304, 'Email'  : 'gwl.sk2000@gmail.com'}\n",
    "# l = [d]\n",
    "dt_name"
   ]
  },
  {
   "cell_type": "markdown",
   "id": "11394c85",
   "metadata": {},
   "source": [
    "## Main Code"
   ]
  },
  {
   "cell_type": "code",
   "execution_count": 130,
   "id": "a9d85ff4",
   "metadata": {},
   "outputs": [
    {
     "name": "stdout",
     "output_type": "stream",
     "text": [
      "Welcome To The Phone Book Management System\n",
      "\n",
      " Press 1 For Add Contact\n",
      " Press 2 For Show Contact: 2\n",
      "\n",
      "Press 1 for search by Name\n",
      " Press 2 for search by Number1\n",
      "Enter Full Name : harshil\n",
      "             Phone          Email\n",
      "Name                             \n",
      "harshil  789654123  tom@gmail.com\n"
     ]
    }
   ],
   "source": [
    "print(\"Welcome To The Phone Book Management System\")\n",
    "choice = int(input(\"\\n Press 1 For Add Contact\\n Press 2 For Show Contact: \"))\n",
    "if choice == 1:\n",
    "    print(add_details())\n",
    "#     return \"Thanks For Using This System....\"\n",
    "elif choice == 2:\n",
    "    print(show_details())\n",
    "#     return \"Thanks For Using This System....\"\n",
    "else: print('Wrong Input Given.....')"
   ]
  },
  {
   "cell_type": "code",
   "execution_count": 107,
   "id": "2328be72",
   "metadata": {},
   "outputs": [],
   "source": [
    "dt  = pd.DataFrame(l)\n",
    "dt\n",
    "\n",
    "dt_name = dt.copy()\n",
    "dt_contact  = dt.copy()\n",
    "\n",
    "dt_name.set_index('Name',inplace = True)\n",
    "dt_contact.set_index('Phone',inplace = True)\n"
   ]
  },
  {
   "cell_type": "code",
   "execution_count": 106,
   "id": "f9f8f5d5",
   "metadata": {},
   "outputs": [
    {
     "name": "stdout",
     "output_type": "stream",
     "text": [
      "Enter n: 2\n",
      "\n",
      "Data of 1 user\n",
      "Enter name: saurav\n",
      "Enter Phone Number: 9340866304\n",
      "Enter your Email Id: saurabhkushwah112000@gmail.com\n",
      "\n",
      "Data of 2 user\n",
      "Enter name: harshil\n",
      "Enter Phone Number: 789654123\n",
      "Enter your Email Id: tom@gmail.com\n"
     ]
    },
    {
     "data": {
      "text/plain": [
       "'Phone Number Created Succesfully'"
      ]
     },
     "execution_count": 106,
     "metadata": {},
     "output_type": "execute_result"
    }
   ],
   "source": [
    "l = []\n",
    "def add_details():\n",
    "    count = 0\n",
    "    n = int(input('Enter n: '))\n",
    "    for x in range(n):\n",
    "        print(f\"\\nData of {x+1} user\")\n",
    "        name = input('Enter name: ')\n",
    "        phone = int(input('Enter Phone Number: '))\n",
    "        email = input(\"Enter your Email Id: \")\n",
    "        d = {}\n",
    "        d.update({'Name': name, 'Phone': phone, 'Email' : email})\n",
    "        count += 1\n",
    "        l.append(d)\n",
    "    return 'Phone Number Created Succesfully' \n",
    "\n",
    "\n",
    "\n",
    "\n",
    "add_details()"
   ]
  },
  {
   "cell_type": "code",
   "execution_count": 117,
   "id": "de464d3d",
   "metadata": {},
   "outputs": [
    {
     "name": "stdout",
     "output_type": "stream",
     "text": [
      "90\n"
     ]
    }
   ],
   "source": []
  },
  {
   "cell_type": "code",
   "execution_count": null,
   "id": "254d36cc",
   "metadata": {},
   "outputs": [],
   "source": []
  },
  {
   "cell_type": "code",
   "execution_count": null,
   "id": "32a9b49c",
   "metadata": {},
   "outputs": [],
   "source": [
    "def delete_data():\n",
    "    pass\n",
    "    \n",
    "    "
   ]
  },
  {
   "cell_type": "code",
   "execution_count": 114,
   "id": "72156bde",
   "metadata": {},
   "outputs": [
    {
     "name": "stdout",
     "output_type": "stream",
     "text": [
      "\n",
      "Press 1 for search by Name\n",
      " Press 2 for search by Number1\n",
      "Enter Full Name : harshil\n"
     ]
    },
    {
     "data": {
      "text/html": [
       "<div>\n",
       "<style scoped>\n",
       "    .dataframe tbody tr th:only-of-type {\n",
       "        vertical-align: middle;\n",
       "    }\n",
       "\n",
       "    .dataframe tbody tr th {\n",
       "        vertical-align: top;\n",
       "    }\n",
       "\n",
       "    .dataframe thead th {\n",
       "        text-align: right;\n",
       "    }\n",
       "</style>\n",
       "<table border=\"1\" class=\"dataframe\">\n",
       "  <thead>\n",
       "    <tr style=\"text-align: right;\">\n",
       "      <th></th>\n",
       "      <th>Phone</th>\n",
       "      <th>Email</th>\n",
       "    </tr>\n",
       "    <tr>\n",
       "      <th>Name</th>\n",
       "      <th></th>\n",
       "      <th></th>\n",
       "    </tr>\n",
       "  </thead>\n",
       "  <tbody>\n",
       "    <tr>\n",
       "      <th>harshil</th>\n",
       "      <td>789654123</td>\n",
       "      <td>tom@gmail.com</td>\n",
       "    </tr>\n",
       "  </tbody>\n",
       "</table>\n",
       "</div>"
      ],
      "text/plain": [
       "             Phone          Email\n",
       "Name                             \n",
       "harshil  789654123  tom@gmail.com"
      ]
     },
     "execution_count": 114,
     "metadata": {},
     "output_type": "execute_result"
    }
   ],
   "source": [
    "def show_details():\n",
    "    choice = int(input(\"\\nPress 1 for search by Name\\n Press 2 for search by Number\"))\n",
    "    if choice == 1:\n",
    "        name = input(\"Enter Full Name : \")\n",
    "        if name in dt_name.index:\n",
    "            result = dt_name.loc[[name]]\n",
    "            return result\n",
    "        else: print('Name is Not Found...........')\n",
    "    elif choice == 2:\n",
    "        mob = int(input(\"Enter Number : \"))\n",
    "        if mob in dt_contact.index:\n",
    "            result1 = dt_contact.loc[[mob]]\n",
    "            return result1\n",
    "        else: print('Number is Not Found...........')\n",
    "    else: print('Wrong Input Given.....Pls Enter a Valid input...')\n",
    "         \n",
    "show_details()\n",
    "        \n",
    "    \n"
   ]
  },
  {
   "cell_type": "code",
   "execution_count": 148,
   "id": "c953f224",
   "metadata": {},
   "outputs": [],
   "source": [
    "def update_details():\n",
    "    pass"
   ]
  },
  {
   "cell_type": "code",
   "execution_count": null,
   "id": "873fd0ac",
   "metadata": {},
   "outputs": [],
   "source": []
  },
  {
   "cell_type": "code",
   "execution_count": 103,
   "id": "02d457a6",
   "metadata": {},
   "outputs": [
    {
     "data": {
      "text/html": [
       "<div>\n",
       "<style scoped>\n",
       "    .dataframe tbody tr th:only-of-type {\n",
       "        vertical-align: middle;\n",
       "    }\n",
       "\n",
       "    .dataframe tbody tr th {\n",
       "        vertical-align: top;\n",
       "    }\n",
       "\n",
       "    .dataframe thead th {\n",
       "        text-align: right;\n",
       "    }\n",
       "</style>\n",
       "<table border=\"1\" class=\"dataframe\">\n",
       "  <thead>\n",
       "    <tr style=\"text-align: right;\">\n",
       "      <th></th>\n",
       "      <th>Name</th>\n",
       "      <th>Phone</th>\n",
       "      <th>Email</th>\n",
       "    </tr>\n",
       "  </thead>\n",
       "  <tbody>\n",
       "    <tr>\n",
       "      <th>0</th>\n",
       "      <td>Saurabh Kushwah</td>\n",
       "      <td>9340866304</td>\n",
       "      <td>gwl.sk2000@gmail.com</td>\n",
       "    </tr>\n",
       "  </tbody>\n",
       "</table>\n",
       "</div>"
      ],
      "text/plain": [
       "              Name       Phone                 Email\n",
       "0  Saurabh Kushwah  9340866304  gwl.sk2000@gmail.com"
      ]
     },
     "execution_count": 103,
     "metadata": {},
     "output_type": "execute_result"
    }
   ],
   "source": [
    "dt"
   ]
  },
  {
   "cell_type": "code",
   "execution_count": null,
   "id": "86397187",
   "metadata": {},
   "outputs": [],
   "source": []
  }
 ],
 "metadata": {
  "kernelspec": {
   "display_name": "Python 3 (ipykernel)",
   "language": "python",
   "name": "python3"
  },
  "language_info": {
   "codemirror_mode": {
    "name": "ipython",
    "version": 3
   },
   "file_extension": ".py",
   "mimetype": "text/x-python",
   "name": "python",
   "nbconvert_exporter": "python",
   "pygments_lexer": "ipython3",
   "version": "3.11.3"
  }
 },
 "nbformat": 4,
 "nbformat_minor": 5
}
