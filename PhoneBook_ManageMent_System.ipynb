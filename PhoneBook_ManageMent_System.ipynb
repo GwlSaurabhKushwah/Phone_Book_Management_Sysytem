{
 "cells": [
  {
   "cell_type": "code",
   "execution_count": 4,
   "id": "ff3aed25",
   "metadata": {},
   "outputs": [],
   "source": [
    "import pandas as pd"
   ]
  },
  {
   "cell_type": "markdown",
   "id": "7ec1b38c",
   "metadata": {},
   "source": [
    "## *Add Details"
   ]
  },
  {
   "cell_type": "code",
   "execution_count": null,
   "id": "262949b2",
   "metadata": {},
   "outputs": [],
   "source": [
    "l = []\n",
    "def add_details():\n",
    "    count = 0\n",
    "    n = int(input('Enter n: '))\n",
    "    for x in range(n):\n",
    "        print(f\"\\nData of {x+1} user\")\n",
    "        name = input('Enter name: ')\n",
    "        phone = int(input('Enter Phone Number: '))\n",
    "        email = input(\"Enter your Email Id: \")\n",
    "        d = {}\n",
    "        d.update({'Name': name, 'Phone': phone, 'Email' : email})\n",
    "        count += 1\n",
    "        l.append(d)\n",
    "    return 'Phone Number Added Succesfully' \n",
    "\n",
    "\n",
    "\n",
    "\n",
    "\n",
    "\n",
    "\n",
    "add_details()"
   ]
  },
  {
   "cell_type": "markdown",
   "id": "cd11a208",
   "metadata": {},
   "source": [
    "## * Creating DataFrame"
   ]
  },
  {
   "cell_type": "code",
   "execution_count": null,
   "id": "8221ba46",
   "metadata": {},
   "outputs": [],
   "source": [
    "dt  = pd.DataFrame(l)\n",
    "dt\n",
    "\n",
    "dt_name = dt.copy()\n",
    "dt_contact  = dt.copy()\n",
    "\n",
    "dt_name.set_index('Name',inplace = True)\n",
    "dt_contact.set_index('Phone',inplace = True)"
   ]
  },
  {
   "cell_type": "markdown",
   "id": "adfe7279",
   "metadata": {},
   "source": [
    "## *Showing Contacts"
   ]
  },
  {
   "cell_type": "code",
   "execution_count": null,
   "id": "80328f15",
   "metadata": {},
   "outputs": [],
   "source": [
    "def show_details():\n",
    "    choice = int(input(\"\\nPress 1 for search by Name\\n Press 2 for search by Number\"))\n",
    "    if choice == 1:\n",
    "        name = input(\"Enter Full Name : \")\n",
    "        if name in dt_name.index:\n",
    "            result = dt_name.loc[[name]]\n",
    "            return result\n",
    "        else: print('Name is Not Found...........')\n",
    "    elif choice == 2:\n",
    "        mob = int(input(\"Enter Number : \"))\n",
    "        if mob in dt_contact.index:\n",
    "            result1 = dt_contact.loc[[mob]]\n",
    "            return result1\n",
    "        else: print('Number is Not Found...........')\n",
    "    else: print('Wrong Input Given.....Pls Enter a Valid input...')\n",
    "         \n",
    "show_details()"
   ]
  },
  {
   "cell_type": "markdown",
   "id": "8d77aeb4",
   "metadata": {},
   "source": [
    "## *Deleting The Contact"
   ]
  },
  {
   "cell_type": "code",
   "execution_count": null,
   "id": "d2ee4768",
   "metadata": {},
   "outputs": [],
   "source": [
    "def delete_data():\n",
    "    choice  = int(input(\"\\n Press 1 for deleting the data by name \\n Press 2 For Number: \"))\n",
    "    if choice == 1:\n",
    "        name = input(\"Enter the name you want to delete: \")\n",
    "        if name in dt_name.index:\n",
    "            s  = dt.loc[dt['Name']== name]\n",
    "            ind  = s.index.to_list()[0]\n",
    "            dt.drop(index = ind, inplace =True)\n",
    "#             dt_name.drop(name,inplace =True)\n",
    "            print('Name Deleted Successfully...')\n",
    "        else: print('Name Not Found....')\n",
    "    elif choice == 2:\n",
    "        contact = int(input(\"Enter the Number you want to delete: \"))\n",
    "        if contact in dt_contact.index:\n",
    "            s  = dt.loc[dt['Phone']== contact]\n",
    "            ind  = s.index.to_list()[0]\n",
    "            dt.drop(index = ind, inplace =True)\n",
    "#             dt_contact.drop(contact,inplace = True)\n",
    "            print('Number  Deleted Successfully...')\n",
    "        else: print('Number Not Found....')\n",
    "    else: print('Wrong Input......')\n",
    "    \n",
    "delete_data()\n",
    "    "
   ]
  },
  {
   "cell_type": "markdown",
   "id": "115e9fdc",
   "metadata": {},
   "source": [
    "## Updating the Contact"
   ]
  },
  {
   "cell_type": "code",
   "execution_count": 29,
   "id": "2163375c",
   "metadata": {},
   "outputs": [],
   "source": [
    "def update_contact():\n",
    "    pass"
   ]
  },
  {
   "cell_type": "markdown",
   "id": "5588833d",
   "metadata": {},
   "source": [
    "## *Main Code"
   ]
  },
  {
   "cell_type": "code",
   "execution_count": 32,
   "id": "c9d8e1e8",
   "metadata": {},
   "outputs": [
    {
     "name": "stdout",
     "output_type": "stream",
     "text": [
      "Welcome To The Phone Book Management System\n",
      "\n",
      " Press 1 For Add Contact: \n",
      " Press 2 For Show Contact: \n",
      " Press 3 For Showing All Contacts:\n",
      "Press 4 To Delete The Contact From the PhoneBook:    \n",
      " Press 0 To Exit:  0\n"
     ]
    }
   ],
   "source": [
    "print(\"Welcome To The Phone Book Management System\")\n",
    "x = 1\n",
    "while(x):\n",
    "    choice = int(input('''\\n Press 1 For Add Contact: \\n Press 2 For Show Contact: \\n Press 3 For Showing All Contacts:\\nPress 4 To Delete The Contact From the PhoneBook:\\\n",
    "    \\n Press 0 To Exit:  '''))\n",
    "    if choice == 1:\n",
    "        print(add_details())\n",
    "#         x -= 1\n",
    "    #     return \"Thanks For Using This System....\"\n",
    "    elif choice == 2:\n",
    "        print(show_details())\n",
    "#         x -= 1\n",
    "    elif choice == 3:\n",
    "        print(dt)\n",
    "#         x -= 1\n",
    "    elif choice == 4:\n",
    "        delete_data()\n",
    "#         x -= \n",
    "    elif choice == 0:\n",
    "        x = 0\n",
    "        \n",
    "    #     return \"Thanks For Using This System....\"\n",
    "    else: print('Wrong Input Given.....')"
   ]
  },
  {
   "cell_type": "code",
   "execution_count": 40,
   "id": "c953f224",
   "metadata": {},
   "outputs": [],
   "source": [
    "def remove_data():\n",
    "    ss = input(\"Enter the Name You want to remove: \")\n",
    "    if ss in dt_name:\n",
    "        s  = dt.loc[df['Name']== ss]\n",
    "        ind  = s.index.to_list()[0]\n",
    "        dt.drop(index = ind, inplace =True)"
   ]
  }
 ],
 "metadata": {
  "kernelspec": {
   "display_name": "Python 3 (ipykernel)",
   "language": "python",
   "name": "python3"
  },
  "language_info": {
   "codemirror_mode": {
    "name": "ipython",
    "version": 3
   },
   "file_extension": ".py",
   "mimetype": "text/x-python",
   "name": "python",
   "nbconvert_exporter": "python",
   "pygments_lexer": "ipython3",
   "version": "3.11.3"
  }
 },
 "nbformat": 4,
 "nbformat_minor": 5
}
