{
 "cells": [
  {
   "cell_type": "code",
   "execution_count": 1,
   "id": "ff3aed25",
   "metadata": {},
   "outputs": [],
   "source": [
    "import pandas as pd"
   ]
  },
  {
   "cell_type": "markdown",
   "id": "7ec1b38c",
   "metadata": {},
   "source": [
    "## *Add Details"
   ]
  },
  {
   "cell_type": "code",
   "execution_count": 92,
   "id": "262949b2",
   "metadata": {},
   "outputs": [],
   "source": [
    "l = []\n",
    "def add_details():\n",
    "    count = 0\n",
    "    n = int(input('Enter n: '))\n",
    "    for x in range(n):\n",
    "        print(f\"\\nData of {x+1} user\")\n",
    "        name = input('Enter name: ')\n",
    "        phone = int(input('Enter Phone Number: '))\n",
    "        email = input(\"Enter your Email Id: \")\n",
    "        d = {}\n",
    "        d.update({'Name': name, 'Phone': phone, 'Email' : email})\n",
    "        count += 1\n",
    "        l.append(d)\n",
    "    return 'Phone Number Added Succesfully' \n",
    "\n",
    "\n",
    "\n",
    "\n",
    "\n",
    "\n",
    "# add_details()"
   ]
  },
  {
   "cell_type": "markdown",
   "id": "36872e12",
   "metadata": {},
   "source": [
    "## Creating DataFrame"
   ]
  },
  {
   "cell_type": "code",
   "execution_count": null,
   "id": "c21e3137",
   "metadata": {},
   "outputs": [],
   "source": [
    "dt  = pd.DataFrame(l)"
   ]
  },
  {
   "cell_type": "markdown",
   "id": "adfe7279",
   "metadata": {},
   "source": [
    "## *Showing Contacts"
   ]
  },
  {
   "cell_type": "code",
   "execution_count": 79,
   "id": "80328f15",
   "metadata": {},
   "outputs": [
    {
     "name": "stdout",
     "output_type": "stream",
     "text": [
      "\n",
      "Press 1 for search by Name\n",
      " Press 2 for search by Number2\n",
      "Enter Number : 1456\n",
      "Number is Not Found...........\n"
     ]
    }
   ],
   "source": [
    "def show_details():\n",
    "    choice = int(input(\"\\nPress 1 for Search by Name\\n Press 2 For Search by Number: \"))\n",
    "    if choice == 1:\n",
    "        name = input(\"Enter Full Name : \")\n",
    "        if name in dt.Name.to_list():\n",
    "            ind1 =  dt.loc[dt['Name']== name]\n",
    "            index = ind1.index.to_list()[0]\n",
    "            result = dt.loc[index]\n",
    "            return result\n",
    "        else: print('Name is Not Found...........')\n",
    "    elif choice == 2:\n",
    "        mob = int(input(\"Enter Number : \"))\n",
    "        if mob in dt.Phone.to_list():\n",
    "            ind1 =  dt.loc[dt['Phone']== mob]\n",
    "            index = ind1.index.to_list()[0]\n",
    "            result1 = dt.loc[index]\n",
    "            return result1\n",
    "        else: print('Number is Not Found...........')\n",
    "    else: print('Wrong Input Given.....Pls Enter a Valid input...')\n",
    "         \n",
    "# show_details()"
   ]
  },
  {
   "cell_type": "markdown",
   "id": "8d77aeb4",
   "metadata": {},
   "source": [
    "## *Deleting The Contact"
   ]
  },
  {
   "cell_type": "code",
   "execution_count": 82,
   "id": "d2ee4768",
   "metadata": {},
   "outputs": [
    {
     "name": "stdout",
     "output_type": "stream",
     "text": [
      "\n",
      " Press 1 for deleting the data by name \n",
      " Press 2 For Number: 2\n",
      "Enter the Number you want to delete: 9977053179\n",
      "Number  Deleted Successfully...\n"
     ]
    }
   ],
   "source": [
    "def delete_data():\n",
    "    choice  = int(input(\"\\n Press 1 for Deleting the data by name \\n Press 2 For Number: \"))\n",
    "    if choice == 1:\n",
    "        name = input(\"Enter the name you want to delete: \")\n",
    "        if name in dt.Name.to_list():\n",
    "            s  = dt.loc[dt['Name']== name]\n",
    "            ind  = s.index.to_list()[0]\n",
    "            dt.drop(index = ind, inplace =True)\n",
    "#             dt_name.drop(name,inplace =True)\n",
    "            print('Name Deleted Successfully...')\n",
    "        else: print('Name Not Found....')\n",
    "    elif choice == 2:\n",
    "        contact = int(input(\"Enter the Number you want to delete: \"))\n",
    "        if contact in dt.Phone.to_list():\n",
    "            s  = dt.loc[dt['Phone']== contact]\n",
    "            ind  = s.index.to_list()[0]\n",
    "            dt.drop(index = ind, inplace =True)\n",
    "#             dt_contact.drop(contact,inplace = True)\n",
    "            print('Number  Deleted Successfully...')\n",
    "        else: print('Number Not Found....')\n",
    "    else: print('Wrong Input......')\n",
    "    \n",
    "delete_data()\n",
    "    "
   ]
  },
  {
   "cell_type": "markdown",
   "id": "115e9fdc",
   "metadata": {},
   "source": [
    "## Updating the Contact"
   ]
  },
  {
   "cell_type": "code",
   "execution_count": 48,
   "id": "2163375c",
   "metadata": {},
   "outputs": [
    {
     "name": "stdout",
     "output_type": "stream",
     "text": [
      "\n",
      "Press 1 To update The Name:\n",
      " Press 2 To Update The Number:\n",
      "Press 3 To Update Email: 1\n",
      "Enter the Name You Want To Update: Rishi\n",
      "Name Not Found.......\n"
     ]
    }
   ],
   "source": [
    "def update_contact():\n",
    "    c = int(input('\\nPress 1 To Update The Name:\\n Press 2 To Update The Number:\\nPress 3 To Update Email: '))\n",
    "    if c == 1:\n",
    "        name = input('Enter the Name You Want To Update: ')\n",
    "        if name in dt.Name.to_list():\n",
    "            s = dt.loc[dt['Name'] == name]\n",
    "            ss = s.index.to_list()[0]\n",
    "            new_name = input(\"Enter New Name: \")\n",
    "            dt.at[ss,'Name'] =  new_name\n",
    "            print(\"Name Updated Successfully\")\n",
    "            return dt\n",
    "        else: print(\"Name Not Found.......\")\n",
    "    elif c == 2:\n",
    "        contact = input('Enter the Number  You Want To Update: ')\n",
    "        if contact in dt.Phone.to_list():\n",
    "            s = dt.loc[dt['Phone'] == contact]\n",
    "            ss = s.index.to_list()[0]\n",
    "            new_number = input(\"Enter New Number: \")\n",
    "            dt.at[ss,'Phone'] =  new_number\n",
    "            print(\"Mobile Number Updated Successfully\")\n",
    "            return dt\n",
    "        else: print(\"Number Not Found.......\")\n",
    "    elif c == 3:\n",
    "        email = input('Enter the Eamil You Want To Update: ')\n",
    "        if email in dt.Email.to_list():\n",
    "            s = dt.loc[dt['Email'] == email]\n",
    "            ss = s.index.to_list()[0]\n",
    "            new_email = input(\"Enter New Email: \")\n",
    "            dt.at[ss,'Email'] =  new_email\n",
    "            print(\"Email Updated Successfully\")\n",
    "            return dt\n",
    "        else: print(\"Email Not Found.......\")\n",
    "    else: print(\"Wrong Input.......\")\n",
    "        \n",
    "        \n",
    "# update_contact()      \n",
    "        \n"
   ]
  },
  {
   "cell_type": "markdown",
   "id": "5588833d",
   "metadata": {},
   "source": [
    "## *Main Code"
   ]
  },
  {
   "cell_type": "code",
   "execution_count": 99,
   "id": "c9d8e1e8",
   "metadata": {},
   "outputs": [
    {
     "name": "stdout",
     "output_type": "stream",
     "text": [
      "Welcome To The Phone Book Management System\n",
      "\n",
      " Press 1 For Add Contact: \n",
      " Press 2 For Search Contact: \n",
      " Press 3 For  All Contacts:\n",
      "Press 4 To Delete The Contact From the PhoneBook:    \n",
      " Press 5 To Update The Details:\n",
      " Press 0 To Exit:  3\n",
      "        Name       Phone                 Email\n",
      "0  siddharth  9977053179  siddsidd36@gmail.com\n",
      "\n",
      " Press 1 For Add Contact: \n",
      " Press 2 For Search Contact: \n",
      " Press 3 For  All Contacts:\n",
      "Press 4 To Delete The Contact From the PhoneBook:    \n",
      " Press 5 To Update The Details:\n",
      " Press 0 To Exit:  4\n",
      "\n",
      " Press 1 for deleting the data by name \n",
      " Press 2 For Number: 1\n",
      "Enter the name you want to delete: siddharth\n",
      "Name Deleted Successfully...\n",
      "\n",
      " Press 1 For Add Contact: \n",
      " Press 2 For Search Contact: \n",
      " Press 3 For  All Contacts:\n",
      "Press 4 To Delete The Contact From the PhoneBook:    \n",
      " Press 5 To Update The Details:\n",
      " Press 0 To Exit:  3\n",
      "Empty DataFrame\n",
      "Columns: [Name, Phone, Email]\n",
      "Index: []\n",
      "\n",
      " Press 1 For Add Contact: \n",
      " Press 2 For Search Contact: \n",
      " Press 3 For  All Contacts:\n",
      "Press 4 To Delete The Contact From the PhoneBook:    \n",
      " Press 5 To Update The Details:\n",
      " Press 0 To Exit:  5\n",
      "\n",
      "Press 1 To update The Name:\n",
      " Press 2 To Update The Number:\n",
      "Press 3 To Update Email: 1\n",
      "Enter the Name You Want To Update: siddharth\n",
      "Name Not Found.......\n",
      "None\n"
     ]
    }
   ],
   "source": [
    "print(\"Welcome To The Phone Book Management System\")\n",
    "x = 1\n",
    "while(x):\n",
    "    choice = int(input('''\\n Press 1 For Add Contact: \\n Press 2 For Search Contact: \\n Press 3 For  All Contacts:\\nPress 4 To Delete The Contact From the PhoneBook:\\\n",
    "    \\n Press 5 To Update The Details:\\n Press 0 To Exit:  '''))\n",
    "    if choice == 1:\n",
    "        print(add_details())\n",
    "#         x -= 1\n",
    "    #     return \"Thanks For Using This System....\"\n",
    "    elif choice == 2:\n",
    "        print(show_details())\n",
    "#         x -= 1\n",
    "    elif choice == 3:\n",
    "        print(dt)\n",
    "#         x -= 1\n",
    "    elif choice == 4:\n",
    "        delete_data()\n",
    "#         x -= \n",
    "    elif choice == 0:\n",
    "        x = 0\n",
    "    elif choice == 5:\n",
    "        print(update_contact())\n",
    "        x -= 1\n",
    "        \n",
    "    #     return \"Thanks For Using This System....\"\n",
    "    else: print('Wrong Input Given.....')"
   ]
  },
  {
   "cell_type": "code",
   "execution_count": 100,
   "id": "eb535917",
   "metadata": {},
   "outputs": [
    {
     "data": {
      "text/html": [
       "<div>\n",
       "<style scoped>\n",
       "    .dataframe tbody tr th:only-of-type {\n",
       "        vertical-align: middle;\n",
       "    }\n",
       "\n",
       "    .dataframe tbody tr th {\n",
       "        vertical-align: top;\n",
       "    }\n",
       "\n",
       "    .dataframe thead th {\n",
       "        text-align: right;\n",
       "    }\n",
       "</style>\n",
       "<table border=\"1\" class=\"dataframe\">\n",
       "  <thead>\n",
       "    <tr style=\"text-align: right;\">\n",
       "      <th></th>\n",
       "      <th>Name</th>\n",
       "      <th>Phone</th>\n",
       "      <th>Email</th>\n",
       "    </tr>\n",
       "  </thead>\n",
       "  <tbody>\n",
       "  </tbody>\n",
       "</table>\n",
       "</div>"
      ],
      "text/plain": [
       "Empty DataFrame\n",
       "Columns: [Name, Phone, Email]\n",
       "Index: []"
      ]
     },
     "execution_count": 100,
     "metadata": {},
     "output_type": "execute_result"
    }
   ],
   "source": []
  },
  {
   "cell_type": "code",
   "execution_count": null,
   "id": "02589efd",
   "metadata": {},
   "outputs": [],
   "source": []
  }
 ],
 "metadata": {
  "kernelspec": {
   "display_name": "Python 3 (ipykernel)",
   "language": "python",
   "name": "python3"
  },
  "language_info": {
   "codemirror_mode": {
    "name": "ipython",
    "version": 3
   },
   "file_extension": ".py",
   "mimetype": "text/x-python",
   "name": "python",
   "nbconvert_exporter": "python",
   "pygments_lexer": "ipython3",
   "version": "3.11.3"
  }
 },
 "nbformat": 4,
 "nbformat_minor": 5
}
