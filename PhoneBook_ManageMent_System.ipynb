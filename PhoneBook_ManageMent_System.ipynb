{
 "cells": [
  {
   "cell_type": "code",
   "execution_count": 1,
   "id": "ff3aed25",
   "metadata": {},
   "outputs": [],
   "source": [
    "import pandas as pd\n"
   ]
  },
  {
   "cell_type": "markdown",
   "id": "7ec1b38c",
   "metadata": {},
   "source": [
    "## *Add Details"
   ]
  },
  {
   "cell_type": "code",
   "execution_count": 2,
   "id": "7a1ab24d",
   "metadata": {},
   "outputs": [],
   "source": [
    "l = [] \n",
    "d = {'Name': 'Saurabh', 'Phone': 9340866304, 'Email' : 'gwl.sk2000@gmail.com'}\n",
    "l.append(d)\n",
    "dt = pd.DataFrame(l)\n",
    "dt = dt.drop_duplicates(subset=['Name','Phone','Email'])"
   ]
  },
  {
   "cell_type": "code",
   "execution_count": 3,
   "id": "6f6bcab5",
   "metadata": {},
   "outputs": [
    {
     "data": {
      "text/html": [
       "<div>\n",
       "<style scoped>\n",
       "    .dataframe tbody tr th:only-of-type {\n",
       "        vertical-align: middle;\n",
       "    }\n",
       "\n",
       "    .dataframe tbody tr th {\n",
       "        vertical-align: top;\n",
       "    }\n",
       "\n",
       "    .dataframe thead th {\n",
       "        text-align: right;\n",
       "    }\n",
       "</style>\n",
       "<table border=\"1\" class=\"dataframe\">\n",
       "  <thead>\n",
       "    <tr style=\"text-align: right;\">\n",
       "      <th></th>\n",
       "      <th>Name</th>\n",
       "      <th>Phone</th>\n",
       "      <th>Email</th>\n",
       "    </tr>\n",
       "  </thead>\n",
       "  <tbody>\n",
       "    <tr>\n",
       "      <th>0</th>\n",
       "      <td>Saurabh</td>\n",
       "      <td>9340866304</td>\n",
       "      <td>gwl.sk2000@gmail.com</td>\n",
       "    </tr>\n",
       "  </tbody>\n",
       "</table>\n",
       "</div>"
      ],
      "text/plain": [
       "      Name       Phone                 Email\n",
       "0  Saurabh  9340866304  gwl.sk2000@gmail.com"
      ]
     },
     "execution_count": 3,
     "metadata": {},
     "output_type": "execute_result"
    }
   ],
   "source": [
    "dt"
   ]
  },
  {
   "cell_type": "code",
   "execution_count": 23,
   "id": "5aaade73",
   "metadata": {},
   "outputs": [
    {
     "name": "stdout",
     "output_type": "stream",
     "text": [
      "Enter name: mummy\n",
      "Enter Phone Number: 12345678\n",
      "Mobile Number Lenth should be 10\n",
      "Enter name: mummy\n",
      "Enter Phone Number: 7410852096\n",
      "Contact already exists with the same phone number. Try again.\n",
      "Enter name: mummy\n",
      "Enter Phone Number: 1020305040\n",
      "Enter your Email Id: mummy@gmail.com\n"
     ]
    },
    {
     "data": {
      "text/plain": [
       "'Contact Saved Successfully'"
      ]
     },
     "execution_count": 23,
     "metadata": {},
     "output_type": "execute_result"
    }
   ],
   "source": [
    "import pandas as pd\n",
    "\n",
    "def add_details():\n",
    "    global dt\n",
    "    while True:\n",
    "        try:\n",
    "            name = input('Enter name: ').title()\n",
    "            if name not in dt['Name'].tolist():\n",
    "                phone = int(input('Enter Phone Number: '))\n",
    "                if len(str(phone)) == 10:\n",
    "                    if phone not in dt['Phone'].tolist():\n",
    "                        email = input('Enter your Email Id: ')\n",
    "                        if email not in dt['Email'].tolist():\n",
    "                            d = {'Name': name, 'Phone': phone, 'Email': email}\n",
    "                            l.append(d)\n",
    "                            tempdt = pd.DataFrame(l)\n",
    "                            dt = pd.concat([dt, tempdt], ignore_index=True)\n",
    "                            dt = dt.drop_duplicates(subset = ['Name','Phone','Email'])\n",
    "                            return \"Contact Saved Successfully\"\n",
    "                        else:print('Contact already exists with the same email address. Try again.')\n",
    "                    else:print('Contact already exists with the same phone number. Try again.')\n",
    "                else:print('Mobile Number Lenth should be 10')\n",
    "            else: print('Contact already exists with this name. Try again.')\n",
    "        except Exception:\n",
    "            print('Invalid input. Please enter valid information.')\n",
    "\n",
    "add_details()\n"
   ]
  },
  {
   "cell_type": "markdown",
   "id": "adfe7279",
   "metadata": {},
   "source": [
    "## *Showing Contacts"
   ]
  },
  {
   "cell_type": "code",
   "execution_count": 4,
   "id": "80328f15",
   "metadata": {},
   "outputs": [],
   "source": [
    "def show_details():\n",
    "    choice = int(input(\"\\nPress 1 for Search by Name:\\n Press 2 For Search by Number: \"))\n",
    "    if choice == 1:\n",
    "        name = input(\"Enter Full Name : \").title()\n",
    "        if name in dt.Name.to_list():\n",
    "            ind1 =  dt.loc[dt['Name']== name]\n",
    "            index = ind1.index.to_list()[0]\n",
    "            result = dt.loc[index]\n",
    "            return result\n",
    "        else: print('Name is Not Found...........')\n",
    "    elif choice == 2:\n",
    "        mob = int(input(\"Enter Number : \"))\n",
    "        if mob in dt.Phone.to_list():\n",
    "            ind1 =  dt.loc[dt['Phone']== mob]\n",
    "            index = ind1.index.to_list()[0]\n",
    "            result1 = dt.loc[index]\n",
    "            return result1\n",
    "        else: print('Number is Not Found...........')\n",
    "    else: print('Wrong Input Given.....Pls Enter a Valid input...')\n",
    "         \n",
    "# show_details()"
   ]
  },
  {
   "cell_type": "markdown",
   "id": "8d77aeb4",
   "metadata": {},
   "source": [
    "## *Deleting The Contact"
   ]
  },
  {
   "cell_type": "code",
   "execution_count": 5,
   "id": "d2ee4768",
   "metadata": {},
   "outputs": [],
   "source": [
    "def delete_data():\n",
    "    try:\n",
    "        choice  = int(input(\"\\n Press 1 for Deleting the data by name:\\n Press 2 For Number:\\n \"))\n",
    "        if choice == 1:\n",
    "            name = input(\"Enter the name you want to delete: \").title()\n",
    "            if name in dt.Name.to_list():\n",
    "                s  = dt.loc[dt['Name']== name]\n",
    "                ind  = s.index.to_list()[0]\n",
    "                dt.drop(index = ind, inplace =True)\n",
    "    #             dt_name.drop(name,inplace =True)\n",
    "                print('Name Deleted Successfully...')\n",
    "            else: print('Name Not Found....')\n",
    "        elif choice == 2:\n",
    "            contact = int(input(\"Enter the Number you want to delete: \"))\n",
    "            if contact in dt.Phone.to_list():\n",
    "                s  = dt.loc[dt['Phone']== contact]\n",
    "                ind  = s.index.to_list()[0]\n",
    "                dt.drop(index = ind, inplace =True)\n",
    "    #             dt_contact.drop(contact,inplace = True)\n",
    "                print('Number  Deleted Successfully...')\n",
    "            else: print('Number Not Found....')\n",
    "        else: print('Wrong Input......')\n",
    "    except Exception:\n",
    "        print(\"Pls Enter a Valid Input...\")\n",
    "    \n",
    "# delete_data()\n",
    "    "
   ]
  },
  {
   "cell_type": "markdown",
   "id": "115e9fdc",
   "metadata": {},
   "source": [
    "## Updating the Contact"
   ]
  },
  {
   "cell_type": "code",
   "execution_count": 26,
   "id": "2163375c",
   "metadata": {},
   "outputs": [],
   "source": [
    "def update_contact():\n",
    "    try:\n",
    "        c = int(input('\\nPress 1 To Update The Name:\\nPress 2 To Update The Number:\\nPress 3 To Update Email: '))\n",
    "        if c == 1:\n",
    "            name = input('Enter the Name You Want To Update: ').title()\n",
    "            if name in dt['Name'].tolist():\n",
    "                s = dt.loc[dt['Name'] == name]\n",
    "                ss = s.index.to_list()[0]\n",
    "                while True:\n",
    "                    new_name = input(\"Enter New Name: \").title()\n",
    "                    if new_name in dt['Name'].tolist():\n",
    "                        print(\"Name is Already in the contact book. Try again.\")\n",
    "                    else:\n",
    "                        dt.loc[ss, 'Name'] = new_name\n",
    "                        print(\"Name Updated Successfully\")\n",
    "                        break\n",
    "                else:\n",
    "                    print(\"Name Not Found\")\n",
    "            else:\n",
    "                print(\"Name Not Found\")\n",
    "        elif c == 2:\n",
    "            contact = int(input('Enter the Number You Want To Update: '))\n",
    "            if contact in dt['Phone'].tolist():\n",
    "                s1 = dt.loc[dt['Phone'] == contact]\n",
    "                ss1 = s1.index.to_list()[0]\n",
    "                while True:\n",
    "                    new_number = int(input(\"Enter New Number: \"))\n",
    "                    if new_number in dt['Phone'].tolist():\n",
    "                        print(\"Number is Already in the contact book. Try again.\")\n",
    "                    else:\n",
    "                        dt.loc[ss1, 'Phone'] = new_number\n",
    "                        print(\"Mobile Number Updated Successfully\")\n",
    "                        break\n",
    "                else:\n",
    "                    print(\"Number Not Found\")\n",
    "            else:\n",
    "                print(\"Number Not Found\")\n",
    "        elif c == 3:\n",
    "            email = input('Enter the Email You Want To Update: ')\n",
    "            if email in dt['Email'].tolist():\n",
    "                s = dt.loc[dt['Email'] == email]\n",
    "                ss = s.index.to_list()[0]\n",
    "                while True:\n",
    "                    new_email = input(\"Enter New Email: \")\n",
    "                    if new_email in dt['Email'].tolist():\n",
    "                        print(\"Email is Already in the contact book. Try again.\")\n",
    "                    else:\n",
    "                        dt.loc[ss, 'Email'] = new_email\n",
    "                        print(\"Email Updated Successfully\")\n",
    "                        break\n",
    "                else:\n",
    "                    print(\"Email Not Found\")\n",
    "            else:\n",
    "                print(\"Email Not Found\")\n",
    "        else:\n",
    "            print(\"Wrong Input\")\n",
    "\n",
    "        return \n",
    "    except Exception:\n",
    "        print(\"Enter a Valid Input...\")\n",
    "\n",
    "# update_contact()\n",
    "\n",
    "        \n"
   ]
  },
  {
   "cell_type": "markdown",
   "id": "5588833d",
   "metadata": {},
   "source": [
    "## *Main Code"
   ]
  },
  {
   "cell_type": "code",
   "execution_count": 24,
   "id": "c9d8e1e8",
   "metadata": {},
   "outputs": [
    {
     "name": "stdout",
     "output_type": "stream",
     "text": [
      "Welcome To The Phone Book Management System\n",
      "\n",
      " Press 1 For Add Contact: \n",
      " Press 2 For Search Contact: \n",
      " Press 3 For  All Contacts:\n",
      "Press 4 To Delete The Contact From the PhoneBook:    \n",
      " Press 5 To Update The Details:\n",
      " Press 0 To Exit:  3\n",
      "       Name         Phone                           Email\n",
      "0   Saurabh    9340866304            gwl.sk2000@gmail.com\n",
      "1    Shivam  919340866304  saurabhkushwah112000@gmail.com\n",
      "2   Shubham    7410852096                   tom@gmail.com\n",
      "3    Anjali    6261284832                anjlai@gmail.com\n",
      "4      Soku    8746563210                    tom@gmal.com\n",
      "5      Papa    7389805941                  papa@gmail.com\n",
      "12    Mummy    1020305040                 mummy@gmail.com\n",
      "\n",
      " Press 1 For Add Contact: \n",
      " Press 2 For Search Contact: \n",
      " Press 3 For  All Contacts:\n",
      "Press 4 To Delete The Contact From the PhoneBook:    \n",
      " Press 5 To Update The Details:\n",
      " Press 0 To Exit:  0\n"
     ]
    }
   ],
   "source": [
    "print(\"Welcome To The Phone Book Management System\")\n",
    "while True:\n",
    "    choice = int(input('''\\n Press 1 For Add Contact: \\n Press 2 For Search Contact: \\n Press 3 For  All Contacts:\\nPress 4 To Delete The Contact From the PhoneBook:\\\n",
    "    \\n Press 5 To Update The Details:\\n Press 0 To Exit:  '''))\n",
    "    if choice == 1:\n",
    "        print(add_details())\n",
    "#         x -= 1\n",
    "    #     return \"Thanks For Using This System....\"\n",
    "    elif choice == 2:\n",
    "        print(show_details())\n",
    "#         x -= 1\n",
    "    elif choice == 3:\n",
    "        print(dt)\n",
    "#         x -= 1\n",
    "    elif choice == 4:\n",
    "        delete_data()\n",
    "#         x -= \n",
    "    elif choice == 0:\n",
    "        break\n",
    "    elif choice == 5:\n",
    "        print(update_contact())\n",
    "        x -= 1\n",
    "        \n",
    "    #     return \"Thanks For Using This System....\"\n",
    "    else: print('Wrong Input Given.....')"
   ]
  }
 ],
 "metadata": {
  "kernelspec": {
   "display_name": "Python 3 (ipykernel)",
   "language": "python",
   "name": "python3"
  },
  "language_info": {
   "codemirror_mode": {
    "name": "ipython",
    "version": 3
   },
   "file_extension": ".py",
   "mimetype": "text/x-python",
   "name": "python",
   "nbconvert_exporter": "python",
   "pygments_lexer": "ipython3",
   "version": "3.10.11"
  }
 },
 "nbformat": 4,
 "nbformat_minor": 5
}
